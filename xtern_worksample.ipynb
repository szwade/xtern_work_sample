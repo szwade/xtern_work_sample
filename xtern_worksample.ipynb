{
 "cells": [
  {
   "cell_type": "code",
   "execution_count": 85,
   "metadata": {},
   "outputs": [],
   "source": [
    "#Importing necessary packages\n",
    "import googlemaps\n",
    "from datetime import datetime\n",
    "import pandas as pd\n",
    "import matplotlib.pyplot as plt\n",
    "import numpy as np\n",
    "from statistics import mean\n",
    "gmaps = googlemaps.Client(key='key')"
   ]
  },
  {
   "cell_type": "code",
   "execution_count": 46,
   "metadata": {},
   "outputs": [],
   "source": [
    "#Collecting data on restaurants nearby coworking spaces (within 2000 meters) using Google Maps API\n",
    "request = gmaps.places_nearby(location = ('39.759472294210816, -86.15800378629093'), radius = 2000, keyword='restaurant')\n",
    "res = len(request['results'])\n",
    "results = request['results']\n",
    "lat_ = []\n",
    "lng_ = []\n",
    "name_ = []\n",
    "rating_ = []\n",
    "\n",
    "for i in range(0,res):\n",
    "    lat = results[i]['geometry']['location']['lat']\n",
    "    lng = results[i]['geometry']['location']['lng'] \n",
    "    name = results[i]['name']\n",
    "    rating = results[i]['rating']\n",
    "    types = results[i]['types']\n",
    "    lat_.append(lat)\n",
    "    lng_.append(lng)\n",
    "    name_.append(name)\n",
    "    rating_.append(rating)\n",
    "    types_.append(types)\n",
    "results = pd.DataFrame(data={'lat':lat_,\n",
    "                                'lng':lng_,\n",
    "                                'name':name_,\n",
    "                                'rating':rating_,\n",
    "                                'types':types_})"
   ]
  },
  {
   "cell_type": "code",
   "execution_count": 31,
   "metadata": {},
   "outputs": [],
   "source": [
    "#Creating master dataframe for analysis\n",
    "column_names = ['lat','lng','name','rating','types']\n",
    "\n",
    "master_results = pd.DataFrame(columns = column_names)"
   ]
  },
  {
   "cell_type": "code",
   "execution_count": 48,
   "metadata": {
    "scrolled": false
   },
   "outputs": [],
   "source": [
    "#Appending each search result to master dataframe\n",
    "master_results=master_results.append(results)"
   ]
  },
  {
   "cell_type": "code",
   "execution_count": 64,
   "metadata": {
    "scrolled": false
   },
   "outputs": [],
   "source": [
    "#Exporting dataframe to create groups using Excel\n",
    "master_results.to_csv('master_results.csv')"
   ]
  },
  {
   "cell_type": "code",
   "execution_count": 121,
   "metadata": {
    "scrolled": false
   },
   "outputs": [
    {
     "data": {
      "text/html": [
       "<div>\n",
       "<style scoped>\n",
       "    .dataframe tbody tr th:only-of-type {\n",
       "        vertical-align: middle;\n",
       "    }\n",
       "\n",
       "    .dataframe tbody tr th {\n",
       "        vertical-align: top;\n",
       "    }\n",
       "\n",
       "    .dataframe thead th {\n",
       "        text-align: right;\n",
       "    }\n",
       "</style>\n",
       "<table border=\"1\" class=\"dataframe\">\n",
       "  <thead>\n",
       "    <tr style=\"text-align: right;\">\n",
       "      <th></th>\n",
       "      <th>lat</th>\n",
       "      <th>lng</th>\n",
       "      <th>name</th>\n",
       "      <th>rating</th>\n",
       "      <th>types</th>\n",
       "      <th>Workspace</th>\n",
       "    </tr>\n",
       "  </thead>\n",
       "  <tbody>\n",
       "    <tr>\n",
       "      <th>0</th>\n",
       "      <td>39.839502</td>\n",
       "      <td>-86.144806</td>\n",
       "      <td>Next Door American Eatery</td>\n",
       "      <td>4.9</td>\n",
       "      <td>['restaurant', 'bar', 'food', 'point_of_intere...</td>\n",
       "      <td>The Speak Easy</td>\n",
       "    </tr>\n",
       "    <tr>\n",
       "      <th>1</th>\n",
       "      <td>39.850841</td>\n",
       "      <td>-86.145582</td>\n",
       "      <td>The Jazz Kitchen</td>\n",
       "      <td>4.7</td>\n",
       "      <td>['bar', 'restaurant', 'food', 'point_of_intere...</td>\n",
       "      <td>The Speak Easy</td>\n",
       "    </tr>\n",
       "    <tr>\n",
       "      <th>2</th>\n",
       "      <td>39.846781</td>\n",
       "      <td>-86.146039</td>\n",
       "      <td>Red Key Tavern</td>\n",
       "      <td>4.6</td>\n",
       "      <td>['bar', 'restaurant', 'food', 'point_of_intere...</td>\n",
       "      <td>The Speak Easy</td>\n",
       "    </tr>\n",
       "    <tr>\n",
       "      <th>3</th>\n",
       "      <td>39.862479</td>\n",
       "      <td>-86.145641</td>\n",
       "      <td>Ambrosia</td>\n",
       "      <td>4.7</td>\n",
       "      <td>['bar', 'restaurant', 'food', 'point_of_intere...</td>\n",
       "      <td>The Speak Easy</td>\n",
       "    </tr>\n",
       "    <tr>\n",
       "      <th>4</th>\n",
       "      <td>39.862402</td>\n",
       "      <td>-86.146308</td>\n",
       "      <td>Binkley's KItchen and Bar</td>\n",
       "      <td>4.2</td>\n",
       "      <td>['bar', 'restaurant', 'food', 'point_of_intere...</td>\n",
       "      <td>The Speak Easy</td>\n",
       "    </tr>\n",
       "    <tr>\n",
       "      <th>...</th>\n",
       "      <td>...</td>\n",
       "      <td>...</td>\n",
       "      <td>...</td>\n",
       "      <td>...</td>\n",
       "      <td>...</td>\n",
       "      <td>...</td>\n",
       "    </tr>\n",
       "    <tr>\n",
       "      <th>95</th>\n",
       "      <td>39.766069</td>\n",
       "      <td>-86.158312</td>\n",
       "      <td>The Oceanaire Seafood Room</td>\n",
       "      <td>4.5</td>\n",
       "      <td>['restaurant', 'food', 'point_of_interest', 'e...</td>\n",
       "      <td>Launch Indy</td>\n",
       "    </tr>\n",
       "    <tr>\n",
       "      <th>96</th>\n",
       "      <td>39.765467</td>\n",
       "      <td>-86.158689</td>\n",
       "      <td>Nada</td>\n",
       "      <td>4.4</td>\n",
       "      <td>['bar', 'restaurant', 'food', 'point_of_intere...</td>\n",
       "      <td>Launch Indy</td>\n",
       "    </tr>\n",
       "    <tr>\n",
       "      <th>97</th>\n",
       "      <td>39.767605</td>\n",
       "      <td>-86.160065</td>\n",
       "      <td>Weber Grill Restaurant</td>\n",
       "      <td>4.2</td>\n",
       "      <td>['bar', 'restaurant', 'food', 'point_of_intere...</td>\n",
       "      <td>Launch Indy</td>\n",
       "    </tr>\n",
       "    <tr>\n",
       "      <th>98</th>\n",
       "      <td>39.766694</td>\n",
       "      <td>-86.161151</td>\n",
       "      <td>The Eagle's Nest</td>\n",
       "      <td>4.4</td>\n",
       "      <td>['restaurant', 'food', 'point_of_interest', 'e...</td>\n",
       "      <td>Launch Indy</td>\n",
       "    </tr>\n",
       "    <tr>\n",
       "      <th>99</th>\n",
       "      <td>39.766791</td>\n",
       "      <td>-86.155693</td>\n",
       "      <td>Fogo de Chão Brazilian Steakhouse</td>\n",
       "      <td>4.6</td>\n",
       "      <td>['restaurant', 'food', 'point_of_interest', 'e...</td>\n",
       "      <td>Launch Indy</td>\n",
       "    </tr>\n",
       "  </tbody>\n",
       "</table>\n",
       "<p>100 rows × 6 columns</p>\n",
       "</div>"
      ],
      "text/plain": [
       "          lat        lng                               name  rating  \\\n",
       "0   39.839502 -86.144806          Next Door American Eatery     4.9   \n",
       "1   39.850841 -86.145582                   The Jazz Kitchen     4.7   \n",
       "2   39.846781 -86.146039                     Red Key Tavern     4.6   \n",
       "3   39.862479 -86.145641                           Ambrosia     4.7   \n",
       "4   39.862402 -86.146308          Binkley's KItchen and Bar     4.2   \n",
       "..        ...        ...                                ...     ...   \n",
       "95  39.766069 -86.158312         The Oceanaire Seafood Room     4.5   \n",
       "96  39.765467 -86.158689                               Nada     4.4   \n",
       "97  39.767605 -86.160065             Weber Grill Restaurant     4.2   \n",
       "98  39.766694 -86.161151                   The Eagle's Nest     4.4   \n",
       "99  39.766791 -86.155693  Fogo de Chão Brazilian Steakhouse     4.6   \n",
       "\n",
       "                                                types       Workspace  \n",
       "0   ['restaurant', 'bar', 'food', 'point_of_intere...  The Speak Easy  \n",
       "1   ['bar', 'restaurant', 'food', 'point_of_intere...  The Speak Easy  \n",
       "2   ['bar', 'restaurant', 'food', 'point_of_intere...  The Speak Easy  \n",
       "3   ['bar', 'restaurant', 'food', 'point_of_intere...  The Speak Easy  \n",
       "4   ['bar', 'restaurant', 'food', 'point_of_intere...  The Speak Easy  \n",
       "..                                                ...             ...  \n",
       "95  ['restaurant', 'food', 'point_of_interest', 'e...     Launch Indy  \n",
       "96  ['bar', 'restaurant', 'food', 'point_of_intere...     Launch Indy  \n",
       "97  ['bar', 'restaurant', 'food', 'point_of_intere...     Launch Indy  \n",
       "98  ['restaurant', 'food', 'point_of_interest', 'e...     Launch Indy  \n",
       "99  ['restaurant', 'food', 'point_of_interest', 'e...     Launch Indy  \n",
       "\n",
       "[100 rows x 6 columns]"
      ]
     },
     "execution_count": 121,
     "metadata": {},
     "output_type": "execute_result"
    }
   ],
   "source": [
    "#Importing DataFrame back in \n",
    "df = pd.read_csv('master_results.csv')"
   ]
  },
  {
   "cell_type": "code",
   "execution_count": 119,
   "metadata": {
    "scrolled": true
   },
   "outputs": [
    {
     "data": {
      "image/png": "[encoded data removed]",
      "text/plain": [
       "<Figure size 1280x720 with 1 Axes>"
      ]
     },
     "metadata": {},
     "output_type": "display_data"
    }
   ],
   "source": [
    "#Creating a stacked histogram to visually inspect the Star Ratings of restaurants within each locale\n",
    "groupby_var = 'Workspace'\n",
    "x_var = 'rating'\n",
    "df_agg = df.loc[:, [x_var, groupby_var]].groupby(groupby_var)\n",
    "vals = [df[x_var].values.tolist() for i, df in df_agg]\n",
    "\n",
    "plt.figure(figsize=(16,9), dpi= 80)\n",
    "colors = [plt.cm.Spectral(i/float(len(vals)-1)) for i in range(len(vals))]\n",
    "n, bins, patches = plt.hist(vals, df[x_var].unique().__len__(), stacked=True, density=False, color=colors[:len(vals)])\n",
    "\n",
    "plt.legend({group:col for group, col in zip(np.unique(df[groupby_var]).tolist(), colors[:len(vals)])})\n",
    "plt.title(\"Stacked Histogram of Restaurant Ratings grouped by Workspace\", fontsize=22)\n",
    "plt.xlabel(x_var)\n",
    "plt.ylabel(\"Frequency\")\n",
    "plt.ylim(0, 50)\n",
    "plt.show()"
   ]
  },
  {
   "cell_type": "code",
   "execution_count": 102,
   "metadata": {
    "scrolled": true
   },
   "outputs": [],
   "source": [
    "#Getting Average Restaurant Ratings for Each Workspace\n",
    "average_ratings = df.groupby('Workspace')['rating'].mean()"
   ]
  },
  {
   "cell_type": "code",
   "execution_count": 118,
   "metadata": {
    "scrolled": true
   },
   "outputs": [
    {
     "data": {
      "text/plain": [
       "<AxesSubplot:title={'center':'Average Rating of Restaurants Nearby'}, ylabel='Workspace'>"
      ]
     },
     "execution_count": 118,
     "metadata": {},
     "output_type": "execute_result"
    },
    {
     "data": {
      "image/png": "[encoded data removed]",
      "text/plain": [
       "<Figure size 640x480 with 1 Axes>"
      ]
     },
     "metadata": {},
     "output_type": "display_data"
    }
   ],
   "source": [
    "#Plotting the Average Rating of Restaurants by Workspace, we see that Industrious Mass Ave has the highest average restaurant \n",
    "#rating and is thus my recommendation\n",
    "average_ratings.plot.barh(title = \"Average Rating of Restaurants Nearby\" , xticks = (0,0.5,1,1.5,2,2.5,3,3.5,4,4.5,5))"
   ]
  },
  {
   "cell_type": "code",
   "execution_count": 136,
   "metadata": {
    "scrolled": true
   },
   "outputs": [
    {
     "data": {
      "text/html": [
       "<div>\n",
       "<style scoped>\n",
       "    .dataframe tbody tr th:only-of-type {\n",
       "        vertical-align: middle;\n",
       "    }\n",
       "\n",
       "    .dataframe tbody tr th {\n",
       "        vertical-align: top;\n",
       "    }\n",
       "\n",
       "    .dataframe thead th {\n",
       "        text-align: right;\n",
       "    }\n",
       "</style>\n",
       "<table border=\"1\" class=\"dataframe\">\n",
       "  <thead>\n",
       "    <tr style=\"text-align: right;\">\n",
       "      <th></th>\n",
       "      <th>index</th>\n",
       "      <th>name</th>\n",
       "    </tr>\n",
       "  </thead>\n",
       "  <tbody>\n",
       "    <tr>\n",
       "      <th>0</th>\n",
       "      <td>73</td>\n",
       "      <td>Comida</td>\n",
       "    </tr>\n",
       "    <tr>\n",
       "      <th>1</th>\n",
       "      <td>76</td>\n",
       "      <td>Bluebeard</td>\n",
       "    </tr>\n",
       "    <tr>\n",
       "      <th>2</th>\n",
       "      <td>60</td>\n",
       "      <td>St. Elmo Steak House</td>\n",
       "    </tr>\n",
       "    <tr>\n",
       "      <th>3</th>\n",
       "      <td>78</td>\n",
       "      <td>Axum Ethiopian Restaurant</td>\n",
       "    </tr>\n",
       "    <tr>\n",
       "      <th>4</th>\n",
       "      <td>64</td>\n",
       "      <td>Harry &amp; Izzy's</td>\n",
       "    </tr>\n",
       "    <tr>\n",
       "      <th>5</th>\n",
       "      <td>72</td>\n",
       "      <td>Livery</td>\n",
       "    </tr>\n",
       "    <tr>\n",
       "      <th>6</th>\n",
       "      <td>70</td>\n",
       "      <td>Vida</td>\n",
       "    </tr>\n",
       "    <tr>\n",
       "      <th>7</th>\n",
       "      <td>61</td>\n",
       "      <td>The Oakmont</td>\n",
       "    </tr>\n",
       "    <tr>\n",
       "      <th>8</th>\n",
       "      <td>71</td>\n",
       "      <td>Hinata Japanese Fine Dining</td>\n",
       "    </tr>\n",
       "    <tr>\n",
       "      <th>9</th>\n",
       "      <td>69</td>\n",
       "      <td>Subito</td>\n",
       "    </tr>\n",
       "  </tbody>\n",
       "</table>\n",
       "</div>"
      ],
      "text/plain": [
       "   index                         name\n",
       "0     73                       Comida\n",
       "1     76                    Bluebeard\n",
       "2     60         St. Elmo Steak House\n",
       "3     78    Axum Ethiopian Restaurant\n",
       "4     64               Harry & Izzy's\n",
       "5     72                       Livery\n",
       "6     70                         Vida\n",
       "7     61                  The Oakmont\n",
       "8     71  Hinata Japanese Fine Dining\n",
       "9     69                       Subito"
      ]
     },
     "execution_count": 136,
     "metadata": {},
     "output_type": "execute_result"
    }
   ],
   "source": [
    "#Subsetting and sorting the Industrious Mass Ave restaurants to visit the 10 best locations over 10 weeks\n",
    "mass_ave = df[df.Workspace == 'Industrious Mass Ave']\n",
    "mass_ave = mass_ave.sort_values(by = 'rating')\n",
    "mass_ave_keepers = mass_ave.tail(10)\n",
    "mass_ave_keepers = mass_ave_keepers['name']\n",
    "mass_ave_keepers = mass_ave_keepers.reset_index()\n",
    "mass_ave_keepers"
   ]
  }
 ],
 "metadata": {
  "kernelspec": {
   "display_name": "Python 3",
   "language": "python",
   "name": "python3"
  },
  "language_info": {
   "codemirror_mode": {
    "name": "ipython",
    "version": 3
   },
   "file_extension": ".py",
   "mimetype": "text/x-python",
   "name": "python",
   "nbconvert_exporter": "python",
   "pygments_lexer": "ipython3",
   "version": "3.8.5"
  }
 },
 "nbformat": 4,
 "nbformat_minor": 4
}
